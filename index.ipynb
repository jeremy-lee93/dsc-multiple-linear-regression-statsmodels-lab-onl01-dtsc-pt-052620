{
 "cells": [
  {
   "cell_type": "markdown",
   "metadata": {},
   "source": [
    "# Multiple Linear Regression in Statsmodels - Lab"
   ]
  },
  {
   "cell_type": "markdown",
   "metadata": {},
   "source": [
    "## Introduction\n",
    "In this lab, you'll practice fitting a multiple linear regression model on the Ames Housing dataset!"
   ]
  },
  {
   "cell_type": "markdown",
   "metadata": {},
   "source": [
    "## Objectives\n",
    "You will be able to:\n",
    "* Determine if it is necessary to perform normalization/standardization for a specific model or set of data\n",
    "* Use standardization/normalization on features of a dataset\n",
    "* Identify if it is necessary to perform log transformations on a set of features\n",
    "* Perform log transformations on different features of a dataset\n",
    "* Use statsmodels to fit a multiple linear regression model\n",
    "* Evaluate a linear regression model by using statistical performance metrics pertaining to overall model and specific parameters\n"
   ]
  },
  {
   "cell_type": "markdown",
   "metadata": {},
   "source": [
    "## The Ames Housing Data"
   ]
  },
  {
   "cell_type": "markdown",
   "metadata": {},
   "source": [
    "Using the specified continuous and categorical features, preprocess your data to prepare for modeling:\n",
    "* Split off and one hot encode the categorical features of interest\n",
    "* Log and scale the selected continuous features"
   ]
  },
  {
   "cell_type": "code",
   "execution_count": 41,
   "metadata": {
    "ExecuteTime": {
     "end_time": "2020-08-22T20:16:37.134504Z",
     "start_time": "2020-08-22T20:16:37.073721Z"
    }
   },
   "outputs": [],
   "source": [
    "import pandas as pd\n",
    "import numpy as np\n",
    "import matplotlib.pyplot as plt\n",
    "%matplotlib inline\n",
    "\n",
    "ames = pd.read_csv('ames.csv')\n",
    "\n",
    "continuous = ['LotArea', '1stFlrSF', 'GrLivArea', 'SalePrice']\n",
    "categoricals = ['BldgType', 'KitchenQual', 'SaleType', 'MSZoning', 'Street', 'Neighborhood']\n"
   ]
  },
  {
   "cell_type": "markdown",
   "metadata": {},
   "source": [
    "## Continuous Features"
   ]
  },
  {
   "cell_type": "code",
   "execution_count": 42,
   "metadata": {
    "ExecuteTime": {
     "end_time": "2020-08-22T20:16:38.095853Z",
     "start_time": "2020-08-22T20:16:38.059802Z"
    }
   },
   "outputs": [],
   "source": [
    "# Log transform and normalize\n",
    "ames_cont = pd.DataFrame([])\n",
    "for col in continuous:\n",
    "    ames_cont[col] = np.log(ames[col])\n",
    "\n",
    "    \n",
    "def min_max(x):\n",
    "    ans = (x - min(x))/(max(x)-min(x))\n",
    "    return ans\n",
    "\n",
    "\n",
    "ames_min_max = ames_cont.apply(min_max)\n",
    "ames_min_max.drop(columns=['SalePrice'], inplace=True)\n",
    "    "
   ]
  },
  {
   "cell_type": "markdown",
   "metadata": {},
   "source": [
    "## Categorical Features"
   ]
  },
  {
   "cell_type": "code",
   "execution_count": 43,
   "metadata": {
    "ExecuteTime": {
     "end_time": "2020-08-22T20:16:39.190455Z",
     "start_time": "2020-08-22T20:16:39.165420Z"
    }
   },
   "outputs": [],
   "source": [
    "# One hot encode categoricals\n",
    "#categoricals = ['BldgType', 'KitchenQual', 'SaleType', 'MSZoning', 'Street', 'Neighborhood']\n",
    "bldg_dum = pd.get_dummies(ames['BldgType'], drop_first=True)\n",
    "kitchen_dum = pd.get_dummies(ames['KitchenQual'], drop_first=True)\n",
    "sale_dum = pd.get_dummies(ames['SaleType'], drop_first=True)\n",
    "zone_dum = pd.get_dummies(ames['MSZoning'], drop_first=True)\n",
    "street_dum = pd.get_dummies(ames['Street'], drop_first=True)\n",
    "neighborhood_dum = pd.get_dummies(ames['Neighborhood'], drop_first=True)\n",
    "\n"
   ]
  },
  {
   "cell_type": "markdown",
   "metadata": {},
   "source": [
    "## Combine Categorical and Continuous Features"
   ]
  },
  {
   "cell_type": "code",
   "execution_count": 44,
   "metadata": {
    "ExecuteTime": {
     "end_time": "2020-08-22T20:16:40.361224Z",
     "start_time": "2020-08-22T20:16:40.316640Z"
    }
   },
   "outputs": [
    {
     "data": {
      "text/html": [
       "<div>\n",
       "<style scoped>\n",
       "    .dataframe tbody tr th:only-of-type {\n",
       "        vertical-align: middle;\n",
       "    }\n",
       "\n",
       "    .dataframe tbody tr th {\n",
       "        vertical-align: top;\n",
       "    }\n",
       "\n",
       "    .dataframe thead th {\n",
       "        text-align: right;\n",
       "    }\n",
       "</style>\n",
       "<table border=\"1\" class=\"dataframe\">\n",
       "  <thead>\n",
       "    <tr style=\"text-align: right;\">\n",
       "      <th></th>\n",
       "      <th>SalePrice</th>\n",
       "      <th>LotArea</th>\n",
       "      <th>1stFlrSF</th>\n",
       "      <th>GrLivArea</th>\n",
       "      <th>2fmCon</th>\n",
       "      <th>Duplex</th>\n",
       "      <th>Twnhs</th>\n",
       "      <th>TwnhsE</th>\n",
       "      <th>Fa</th>\n",
       "      <th>Gd</th>\n",
       "      <th>...</th>\n",
       "      <th>NoRidge</th>\n",
       "      <th>NridgHt</th>\n",
       "      <th>OldTown</th>\n",
       "      <th>SWISU</th>\n",
       "      <th>Sawyer</th>\n",
       "      <th>SawyerW</th>\n",
       "      <th>Somerst</th>\n",
       "      <th>StoneBr</th>\n",
       "      <th>Timber</th>\n",
       "      <th>Veenker</th>\n",
       "    </tr>\n",
       "  </thead>\n",
       "  <tbody>\n",
       "    <tr>\n",
       "      <td>0</td>\n",
       "      <td>208500</td>\n",
       "      <td>0.366344</td>\n",
       "      <td>0.356155</td>\n",
       "      <td>0.577712</td>\n",
       "      <td>0</td>\n",
       "      <td>0</td>\n",
       "      <td>0</td>\n",
       "      <td>0</td>\n",
       "      <td>0</td>\n",
       "      <td>1</td>\n",
       "      <td>...</td>\n",
       "      <td>0</td>\n",
       "      <td>0</td>\n",
       "      <td>0</td>\n",
       "      <td>0</td>\n",
       "      <td>0</td>\n",
       "      <td>0</td>\n",
       "      <td>0</td>\n",
       "      <td>0</td>\n",
       "      <td>0</td>\n",
       "      <td>0</td>\n",
       "    </tr>\n",
       "    <tr>\n",
       "      <td>1</td>\n",
       "      <td>181500</td>\n",
       "      <td>0.391317</td>\n",
       "      <td>0.503056</td>\n",
       "      <td>0.470245</td>\n",
       "      <td>0</td>\n",
       "      <td>0</td>\n",
       "      <td>0</td>\n",
       "      <td>0</td>\n",
       "      <td>0</td>\n",
       "      <td>0</td>\n",
       "      <td>...</td>\n",
       "      <td>0</td>\n",
       "      <td>0</td>\n",
       "      <td>0</td>\n",
       "      <td>0</td>\n",
       "      <td>0</td>\n",
       "      <td>0</td>\n",
       "      <td>0</td>\n",
       "      <td>0</td>\n",
       "      <td>0</td>\n",
       "      <td>1</td>\n",
       "    </tr>\n",
       "    <tr>\n",
       "      <td>2</td>\n",
       "      <td>223500</td>\n",
       "      <td>0.422359</td>\n",
       "      <td>0.383441</td>\n",
       "      <td>0.593095</td>\n",
       "      <td>0</td>\n",
       "      <td>0</td>\n",
       "      <td>0</td>\n",
       "      <td>0</td>\n",
       "      <td>0</td>\n",
       "      <td>1</td>\n",
       "      <td>...</td>\n",
       "      <td>0</td>\n",
       "      <td>0</td>\n",
       "      <td>0</td>\n",
       "      <td>0</td>\n",
       "      <td>0</td>\n",
       "      <td>0</td>\n",
       "      <td>0</td>\n",
       "      <td>0</td>\n",
       "      <td>0</td>\n",
       "      <td>0</td>\n",
       "    </tr>\n",
       "    <tr>\n",
       "      <td>3</td>\n",
       "      <td>140000</td>\n",
       "      <td>0.390295</td>\n",
       "      <td>0.399941</td>\n",
       "      <td>0.579157</td>\n",
       "      <td>0</td>\n",
       "      <td>0</td>\n",
       "      <td>0</td>\n",
       "      <td>0</td>\n",
       "      <td>0</td>\n",
       "      <td>1</td>\n",
       "      <td>...</td>\n",
       "      <td>0</td>\n",
       "      <td>0</td>\n",
       "      <td>0</td>\n",
       "      <td>0</td>\n",
       "      <td>0</td>\n",
       "      <td>0</td>\n",
       "      <td>0</td>\n",
       "      <td>0</td>\n",
       "      <td>0</td>\n",
       "      <td>0</td>\n",
       "    </tr>\n",
       "    <tr>\n",
       "      <td>4</td>\n",
       "      <td>250000</td>\n",
       "      <td>0.468761</td>\n",
       "      <td>0.466237</td>\n",
       "      <td>0.666523</td>\n",
       "      <td>0</td>\n",
       "      <td>0</td>\n",
       "      <td>0</td>\n",
       "      <td>0</td>\n",
       "      <td>0</td>\n",
       "      <td>1</td>\n",
       "      <td>...</td>\n",
       "      <td>1</td>\n",
       "      <td>0</td>\n",
       "      <td>0</td>\n",
       "      <td>0</td>\n",
       "      <td>0</td>\n",
       "      <td>0</td>\n",
       "      <td>0</td>\n",
       "      <td>0</td>\n",
       "      <td>0</td>\n",
       "      <td>0</td>\n",
       "    </tr>\n",
       "  </tbody>\n",
       "</table>\n",
       "<p>5 rows × 48 columns</p>\n",
       "</div>"
      ],
      "text/plain": [
       "   SalePrice   LotArea  1stFlrSF  GrLivArea  2fmCon  Duplex  Twnhs  TwnhsE  \\\n",
       "0     208500  0.366344  0.356155   0.577712       0       0      0       0   \n",
       "1     181500  0.391317  0.503056   0.470245       0       0      0       0   \n",
       "2     223500  0.422359  0.383441   0.593095       0       0      0       0   \n",
       "3     140000  0.390295  0.399941   0.579157       0       0      0       0   \n",
       "4     250000  0.468761  0.466237   0.666523       0       0      0       0   \n",
       "\n",
       "   Fa  Gd  ...  NoRidge  NridgHt  OldTown  SWISU  Sawyer  SawyerW  Somerst  \\\n",
       "0   0   1  ...        0        0        0      0       0        0        0   \n",
       "1   0   0  ...        0        0        0      0       0        0        0   \n",
       "2   0   1  ...        0        0        0      0       0        0        0   \n",
       "3   0   1  ...        0        0        0      0       0        0        0   \n",
       "4   0   1  ...        1        0        0      0       0        0        0   \n",
       "\n",
       "   StoneBr  Timber  Veenker  \n",
       "0        0       0        0  \n",
       "1        0       0        1  \n",
       "2        0       0        0  \n",
       "3        0       0        0  \n",
       "4        0       0        0  \n",
       "\n",
       "[5 rows x 48 columns]"
      ]
     },
     "execution_count": 44,
     "metadata": {},
     "output_type": "execute_result"
    }
   ],
   "source": [
    "# combine features into a single dataframe called preprocessed\n",
    "sales = ames['SalePrice']\n",
    "preprocessed = pd.concat([sales, ames_min_max, bldg_dum, kitchen_dum, sale_dum, zone_dum, street_dum, neighborhood_dum],axis=1)\n",
    "preprocessed.head()"
   ]
  },
  {
   "cell_type": "markdown",
   "metadata": {},
   "source": [
    "## Run a linear model with SalePrice as the target variable in statsmodels"
   ]
  },
  {
   "cell_type": "code",
   "execution_count": 53,
   "metadata": {
    "ExecuteTime": {
     "end_time": "2020-08-22T20:45:23.528294Z",
     "start_time": "2020-08-22T20:45:23.515099Z"
    }
   },
   "outputs": [
    {
     "data": {
      "text/plain": [
       "['LotArea',\n",
       " 'FirstFlrSF',\n",
       " 'GrLivArea',\n",
       " 'TwoFmCon',\n",
       " 'Duplex',\n",
       " 'Twnhs',\n",
       " 'TwnhsE',\n",
       " 'Fa',\n",
       " 'Gd',\n",
       " 'TA',\n",
       " 'CWD',\n",
       " 'Con',\n",
       " 'ConLD',\n",
       " 'ConLI',\n",
       " 'ConLw',\n",
       " 'New',\n",
       " 'Oth',\n",
       " 'WD',\n",
       " 'FV',\n",
       " 'RH',\n",
       " 'RL',\n",
       " 'RM',\n",
       " 'Pave',\n",
       " 'Blueste',\n",
       " 'BrDale',\n",
       " 'BrkSide',\n",
       " 'ClearCr',\n",
       " 'CollgCr',\n",
       " 'Crawfor',\n",
       " 'Edwards',\n",
       " 'Gilbert',\n",
       " 'IDOTRR',\n",
       " 'MeadowV',\n",
       " 'Mitchel',\n",
       " 'NAmes',\n",
       " 'NPkVill',\n",
       " 'NWAmes',\n",
       " 'NoRidge',\n",
       " 'NridgHt',\n",
       " 'OldTown',\n",
       " 'SWISU',\n",
       " 'Sawyer',\n",
       " 'SawyerW',\n",
       " 'Somerst',\n",
       " 'StoneBr',\n",
       " 'Timber',\n",
       " 'Veenker']"
      ]
     },
     "execution_count": 53,
     "metadata": {},
     "output_type": "execute_result"
    }
   ],
   "source": [
    "preprocessed.rename(columns={'1stFlrSF':'FirstFlrSF','2fmCon':'TwoFmCon'}, inplace=True)\n",
    "predictors = [x for x in preprocessed.columns[1:]]\n",
    "predictors"
   ]
  },
  {
   "cell_type": "code",
   "execution_count": 54,
   "metadata": {
    "ExecuteTime": {
     "end_time": "2020-08-22T20:45:24.740602Z",
     "start_time": "2020-08-22T20:45:24.506494Z"
    }
   },
   "outputs": [],
   "source": [
    "# Your code here\n",
    "import statsmodels.api as sm\n",
    "from statsmodels.formula.api import ols\n",
    "pred_sum = '+'.join(predictors)\n",
    "formula = f\"SalePrice ~ {pred_sum}\"\n",
    "model = ols(formula=formula, data=preprocessed).fit()"
   ]
  },
  {
   "cell_type": "code",
   "execution_count": 55,
   "metadata": {
    "ExecuteTime": {
     "end_time": "2020-08-22T20:45:33.161024Z",
     "start_time": "2020-08-22T20:45:33.080232Z"
    }
   },
   "outputs": [
    {
     "data": {
      "text/html": [
       "<table class=\"simpletable\">\n",
       "<caption>OLS Regression Results</caption>\n",
       "<tr>\n",
       "  <th>Dep. Variable:</th>        <td>SalePrice</td>    <th>  R-squared:         </th> <td>   0.806</td> \n",
       "</tr>\n",
       "<tr>\n",
       "  <th>Model:</th>                   <td>OLS</td>       <th>  Adj. R-squared:    </th> <td>   0.799</td> \n",
       "</tr>\n",
       "<tr>\n",
       "  <th>Method:</th>             <td>Least Squares</td>  <th>  F-statistic:       </th> <td>   124.6</td> \n",
       "</tr>\n",
       "<tr>\n",
       "  <th>Date:</th>             <td>Sat, 22 Aug 2020</td> <th>  Prob (F-statistic):</th>  <td>  0.00</td>  \n",
       "</tr>\n",
       "<tr>\n",
       "  <th>Time:</th>                 <td>16:45:33</td>     <th>  Log-Likelihood:    </th> <td> -17348.</td> \n",
       "</tr>\n",
       "<tr>\n",
       "  <th>No. Observations:</th>      <td>  1460</td>      <th>  AIC:               </th> <td>3.479e+04</td>\n",
       "</tr>\n",
       "<tr>\n",
       "  <th>Df Residuals:</th>          <td>  1412</td>      <th>  BIC:               </th> <td>3.505e+04</td>\n",
       "</tr>\n",
       "<tr>\n",
       "  <th>Df Model:</th>              <td>    47</td>      <th>                     </th>     <td> </td>    \n",
       "</tr>\n",
       "<tr>\n",
       "  <th>Covariance Type:</th>      <td>nonrobust</td>    <th>                     </th>     <td> </td>    \n",
       "</tr>\n",
       "</table>\n",
       "<table class=\"simpletable\">\n",
       "<tr>\n",
       "       <td></td>         <th>coef</th>     <th>std err</th>      <th>t</th>      <th>P>|t|</th>  <th>[0.025</th>    <th>0.975]</th>  \n",
       "</tr>\n",
       "<tr>\n",
       "  <th>Intercept</th>  <td> 5.677e+04</td> <td> 2.46e+04</td> <td>    2.309</td> <td> 0.021</td> <td> 8548.976</td> <td> 1.05e+05</td>\n",
       "</tr>\n",
       "<tr>\n",
       "  <th>LotArea</th>    <td> 1.003e+05</td> <td> 1.63e+04</td> <td>    6.169</td> <td> 0.000</td> <td> 6.84e+04</td> <td> 1.32e+05</td>\n",
       "</tr>\n",
       "<tr>\n",
       "  <th>FirstFlrSF</th> <td> 8.894e+04</td> <td> 1.16e+04</td> <td>    7.673</td> <td> 0.000</td> <td> 6.62e+04</td> <td> 1.12e+05</td>\n",
       "</tr>\n",
       "<tr>\n",
       "  <th>GrLivArea</th>  <td> 2.089e+05</td> <td> 1.16e+04</td> <td>   18.080</td> <td> 0.000</td> <td> 1.86e+05</td> <td> 2.32e+05</td>\n",
       "</tr>\n",
       "<tr>\n",
       "  <th>TwoFmCon</th>   <td>-1.547e+04</td> <td> 6885.909</td> <td>   -2.247</td> <td> 0.025</td> <td> -2.9e+04</td> <td>-1963.124</td>\n",
       "</tr>\n",
       "<tr>\n",
       "  <th>Duplex</th>     <td>-2.946e+04</td> <td> 5383.318</td> <td>   -5.473</td> <td> 0.000</td> <td>   -4e+04</td> <td>-1.89e+04</td>\n",
       "</tr>\n",
       "<tr>\n",
       "  <th>Twnhs</th>      <td>-1.903e+04</td> <td> 8093.233</td> <td>   -2.351</td> <td> 0.019</td> <td>-3.49e+04</td> <td>-3151.964</td>\n",
       "</tr>\n",
       "<tr>\n",
       "  <th>TwnhsE</th>     <td>-1.795e+04</td> <td> 5204.902</td> <td>   -3.449</td> <td> 0.001</td> <td>-2.82e+04</td> <td>-7741.004</td>\n",
       "</tr>\n",
       "<tr>\n",
       "  <th>Fa</th>         <td>-8.558e+04</td> <td> 7710.123</td> <td>  -11.100</td> <td> 0.000</td> <td>-1.01e+05</td> <td>-7.05e+04</td>\n",
       "</tr>\n",
       "<tr>\n",
       "  <th>Gd</th>         <td> -5.88e+04</td> <td> 4378.414</td> <td>  -13.430</td> <td> 0.000</td> <td>-6.74e+04</td> <td>-5.02e+04</td>\n",
       "</tr>\n",
       "<tr>\n",
       "  <th>TA</th>         <td>-7.654e+04</td> <td> 4821.431</td> <td>  -15.876</td> <td> 0.000</td> <td> -8.6e+04</td> <td>-6.71e+04</td>\n",
       "</tr>\n",
       "<tr>\n",
       "  <th>CWD</th>        <td> 2.328e+04</td> <td> 1.88e+04</td> <td>    1.240</td> <td> 0.215</td> <td>-1.36e+04</td> <td> 6.01e+04</td>\n",
       "</tr>\n",
       "<tr>\n",
       "  <th>Con</th>        <td> 6.056e+04</td> <td> 2.65e+04</td> <td>    2.282</td> <td> 0.023</td> <td> 8505.875</td> <td> 1.13e+05</td>\n",
       "</tr>\n",
       "<tr>\n",
       "  <th>ConLD</th>      <td>  1.71e+04</td> <td> 1.36e+04</td> <td>    1.262</td> <td> 0.207</td> <td>-9478.767</td> <td> 4.37e+04</td>\n",
       "</tr>\n",
       "<tr>\n",
       "  <th>ConLI</th>      <td> 1.395e+04</td> <td>  1.7e+04</td> <td>    0.819</td> <td> 0.413</td> <td>-1.95e+04</td> <td> 4.74e+04</td>\n",
       "</tr>\n",
       "<tr>\n",
       "  <th>ConLw</th>      <td> 5959.6243</td> <td> 1.71e+04</td> <td>    0.349</td> <td> 0.727</td> <td>-2.75e+04</td> <td> 3.95e+04</td>\n",
       "</tr>\n",
       "<tr>\n",
       "  <th>New</th>        <td> 2.993e+04</td> <td> 6880.385</td> <td>    4.350</td> <td> 0.000</td> <td> 1.64e+04</td> <td> 4.34e+04</td>\n",
       "</tr>\n",
       "<tr>\n",
       "  <th>Oth</th>        <td> 1.333e+04</td> <td> 2.14e+04</td> <td>    0.622</td> <td> 0.534</td> <td>-2.87e+04</td> <td> 5.53e+04</td>\n",
       "</tr>\n",
       "<tr>\n",
       "  <th>WD</th>         <td> 1.215e+04</td> <td> 5699.364</td> <td>    2.131</td> <td> 0.033</td> <td>  964.989</td> <td> 2.33e+04</td>\n",
       "</tr>\n",
       "<tr>\n",
       "  <th>FV</th>         <td> 3.148e+04</td> <td> 1.68e+04</td> <td>    1.869</td> <td> 0.062</td> <td>-1557.958</td> <td> 6.45e+04</td>\n",
       "</tr>\n",
       "<tr>\n",
       "  <th>RH</th>         <td> 1.695e+04</td> <td>  1.7e+04</td> <td>    1.000</td> <td> 0.318</td> <td>-1.63e+04</td> <td> 5.02e+04</td>\n",
       "</tr>\n",
       "<tr>\n",
       "  <th>RL</th>         <td> 1.926e+04</td> <td> 1.41e+04</td> <td>    1.363</td> <td> 0.173</td> <td>-8457.742</td> <td>  4.7e+04</td>\n",
       "</tr>\n",
       "<tr>\n",
       "  <th>RM</th>         <td> 3.339e+04</td> <td> 1.32e+04</td> <td>    2.522</td> <td> 0.012</td> <td> 7415.251</td> <td> 5.94e+04</td>\n",
       "</tr>\n",
       "<tr>\n",
       "  <th>Pave</th>       <td>-1652.5399</td> <td> 1.57e+04</td> <td>   -0.105</td> <td> 0.916</td> <td>-3.25e+04</td> <td> 2.92e+04</td>\n",
       "</tr>\n",
       "<tr>\n",
       "  <th>Blueste</th>    <td> 7415.5890</td> <td> 2.77e+04</td> <td>    0.267</td> <td> 0.789</td> <td> -4.7e+04</td> <td> 6.18e+04</td>\n",
       "</tr>\n",
       "<tr>\n",
       "  <th>BrDale</th>     <td>-1.532e+04</td> <td> 1.49e+04</td> <td>   -1.029</td> <td> 0.304</td> <td>-4.45e+04</td> <td> 1.39e+04</td>\n",
       "</tr>\n",
       "<tr>\n",
       "  <th>BrkSide</th>    <td>-5.044e+04</td> <td>  1.2e+04</td> <td>   -4.212</td> <td> 0.000</td> <td>-7.39e+04</td> <td>-2.69e+04</td>\n",
       "</tr>\n",
       "<tr>\n",
       "  <th>ClearCr</th>    <td>-3.014e+04</td> <td> 1.26e+04</td> <td>   -2.393</td> <td> 0.017</td> <td>-5.49e+04</td> <td>-5432.316</td>\n",
       "</tr>\n",
       "<tr>\n",
       "  <th>CollgCr</th>    <td>-1.725e+04</td> <td> 1.04e+04</td> <td>   -1.666</td> <td> 0.096</td> <td>-3.76e+04</td> <td> 3066.425</td>\n",
       "</tr>\n",
       "<tr>\n",
       "  <th>Crawfor</th>    <td>-1.343e+04</td> <td> 1.13e+04</td> <td>   -1.193</td> <td> 0.233</td> <td>-3.55e+04</td> <td> 8648.843</td>\n",
       "</tr>\n",
       "<tr>\n",
       "  <th>Edwards</th>    <td>-5.803e+04</td> <td> 1.08e+04</td> <td>   -5.367</td> <td> 0.000</td> <td>-7.92e+04</td> <td>-3.68e+04</td>\n",
       "</tr>\n",
       "<tr>\n",
       "  <th>Gilbert</th>    <td>-2.232e+04</td> <td>  1.1e+04</td> <td>   -2.028</td> <td> 0.043</td> <td>-4.39e+04</td> <td> -726.702</td>\n",
       "</tr>\n",
       "<tr>\n",
       "  <th>IDOTRR</th>     <td>-6.827e+04</td> <td>  1.4e+04</td> <td>   -4.893</td> <td> 0.000</td> <td>-9.56e+04</td> <td>-4.09e+04</td>\n",
       "</tr>\n",
       "<tr>\n",
       "  <th>MeadowV</th>    <td>-2.691e+04</td> <td> 1.39e+04</td> <td>   -1.940</td> <td> 0.053</td> <td>-5.41e+04</td> <td>  301.706</td>\n",
       "</tr>\n",
       "<tr>\n",
       "  <th>Mitchel</th>    <td>-3.184e+04</td> <td> 1.15e+04</td> <td>   -2.779</td> <td> 0.006</td> <td>-5.43e+04</td> <td>-9366.279</td>\n",
       "</tr>\n",
       "<tr>\n",
       "  <th>NAmes</th>      <td>-4.416e+04</td> <td> 1.05e+04</td> <td>   -4.208</td> <td> 0.000</td> <td>-6.47e+04</td> <td>-2.36e+04</td>\n",
       "</tr>\n",
       "<tr>\n",
       "  <th>NPkVill</th>    <td> 3043.5531</td> <td> 1.51e+04</td> <td>    0.201</td> <td> 0.841</td> <td>-2.66e+04</td> <td> 3.27e+04</td>\n",
       "</tr>\n",
       "<tr>\n",
       "  <th>NWAmes</th>     <td>-3.446e+04</td> <td>  1.1e+04</td> <td>   -3.131</td> <td> 0.002</td> <td> -5.6e+04</td> <td>-1.29e+04</td>\n",
       "</tr>\n",
       "<tr>\n",
       "  <th>NoRidge</th>    <td> 6.028e+04</td> <td> 1.16e+04</td> <td>    5.207</td> <td> 0.000</td> <td> 3.76e+04</td> <td>  8.3e+04</td>\n",
       "</tr>\n",
       "<tr>\n",
       "  <th>NridgHt</th>    <td> 3.767e+04</td> <td> 1.04e+04</td> <td>    3.607</td> <td> 0.000</td> <td> 1.72e+04</td> <td> 5.82e+04</td>\n",
       "</tr>\n",
       "<tr>\n",
       "  <th>OldTown</th>    <td>-7.188e+04</td> <td> 1.22e+04</td> <td>   -5.891</td> <td> 0.000</td> <td>-9.58e+04</td> <td>-4.79e+04</td>\n",
       "</tr>\n",
       "<tr>\n",
       "  <th>SWISU</th>      <td>-5.982e+04</td> <td> 1.26e+04</td> <td>   -4.747</td> <td> 0.000</td> <td>-8.45e+04</td> <td>-3.51e+04</td>\n",
       "</tr>\n",
       "<tr>\n",
       "  <th>Sawyer</th>     <td>-4.588e+04</td> <td> 1.11e+04</td> <td>   -4.123</td> <td> 0.000</td> <td>-6.77e+04</td> <td>-2.41e+04</td>\n",
       "</tr>\n",
       "<tr>\n",
       "  <th>SawyerW</th>    <td>-2.401e+04</td> <td> 1.09e+04</td> <td>   -2.195</td> <td> 0.028</td> <td>-4.55e+04</td> <td>-2552.412</td>\n",
       "</tr>\n",
       "<tr>\n",
       "  <th>Somerst</th>    <td>-5124.0067</td> <td> 1.26e+04</td> <td>   -0.406</td> <td> 0.684</td> <td>-2.99e+04</td> <td> 1.96e+04</td>\n",
       "</tr>\n",
       "<tr>\n",
       "  <th>StoneBr</th>    <td> 5.242e+04</td> <td> 1.16e+04</td> <td>    4.520</td> <td> 0.000</td> <td> 2.97e+04</td> <td> 7.52e+04</td>\n",
       "</tr>\n",
       "<tr>\n",
       "  <th>Timber</th>     <td>-7977.6501</td> <td> 1.17e+04</td> <td>   -0.682</td> <td> 0.495</td> <td>-3.09e+04</td> <td>  1.5e+04</td>\n",
       "</tr>\n",
       "<tr>\n",
       "  <th>Veenker</th>    <td> 1624.4792</td> <td> 1.48e+04</td> <td>    0.110</td> <td> 0.912</td> <td>-2.73e+04</td> <td> 3.06e+04</td>\n",
       "</tr>\n",
       "</table>\n",
       "<table class=\"simpletable\">\n",
       "<tr>\n",
       "  <th>Omnibus:</th>       <td>513.727</td> <th>  Durbin-Watson:     </th> <td>   1.930</td> \n",
       "</tr>\n",
       "<tr>\n",
       "  <th>Prob(Omnibus):</th> <td> 0.000</td>  <th>  Jarque-Bera (JB):  </th> <td>11182.821</td>\n",
       "</tr>\n",
       "<tr>\n",
       "  <th>Skew:</th>          <td> 1.106</td>  <th>  Prob(JB):          </th> <td>    0.00</td> \n",
       "</tr>\n",
       "<tr>\n",
       "  <th>Kurtosis:</th>      <td>16.377</td>  <th>  Cond. No.          </th> <td>    118.</td> \n",
       "</tr>\n",
       "</table><br/><br/>Warnings:<br/>[1] Standard Errors assume that the covariance matrix of the errors is correctly specified."
      ],
      "text/plain": [
       "<class 'statsmodels.iolib.summary.Summary'>\n",
       "\"\"\"\n",
       "                            OLS Regression Results                            \n",
       "==============================================================================\n",
       "Dep. Variable:              SalePrice   R-squared:                       0.806\n",
       "Model:                            OLS   Adj. R-squared:                  0.799\n",
       "Method:                 Least Squares   F-statistic:                     124.6\n",
       "Date:                Sat, 22 Aug 2020   Prob (F-statistic):               0.00\n",
       "Time:                        16:45:33   Log-Likelihood:                -17348.\n",
       "No. Observations:                1460   AIC:                         3.479e+04\n",
       "Df Residuals:                    1412   BIC:                         3.505e+04\n",
       "Df Model:                          47                                         \n",
       "Covariance Type:            nonrobust                                         \n",
       "==============================================================================\n",
       "                 coef    std err          t      P>|t|      [0.025      0.975]\n",
       "------------------------------------------------------------------------------\n",
       "Intercept   5.677e+04   2.46e+04      2.309      0.021    8548.976    1.05e+05\n",
       "LotArea     1.003e+05   1.63e+04      6.169      0.000    6.84e+04    1.32e+05\n",
       "FirstFlrSF  8.894e+04   1.16e+04      7.673      0.000    6.62e+04    1.12e+05\n",
       "GrLivArea   2.089e+05   1.16e+04     18.080      0.000    1.86e+05    2.32e+05\n",
       "TwoFmCon   -1.547e+04   6885.909     -2.247      0.025    -2.9e+04   -1963.124\n",
       "Duplex     -2.946e+04   5383.318     -5.473      0.000      -4e+04   -1.89e+04\n",
       "Twnhs      -1.903e+04   8093.233     -2.351      0.019   -3.49e+04   -3151.964\n",
       "TwnhsE     -1.795e+04   5204.902     -3.449      0.001   -2.82e+04   -7741.004\n",
       "Fa         -8.558e+04   7710.123    -11.100      0.000   -1.01e+05   -7.05e+04\n",
       "Gd          -5.88e+04   4378.414    -13.430      0.000   -6.74e+04   -5.02e+04\n",
       "TA         -7.654e+04   4821.431    -15.876      0.000    -8.6e+04   -6.71e+04\n",
       "CWD         2.328e+04   1.88e+04      1.240      0.215   -1.36e+04    6.01e+04\n",
       "Con         6.056e+04   2.65e+04      2.282      0.023    8505.875    1.13e+05\n",
       "ConLD        1.71e+04   1.36e+04      1.262      0.207   -9478.767    4.37e+04\n",
       "ConLI       1.395e+04    1.7e+04      0.819      0.413   -1.95e+04    4.74e+04\n",
       "ConLw       5959.6243   1.71e+04      0.349      0.727   -2.75e+04    3.95e+04\n",
       "New         2.993e+04   6880.385      4.350      0.000    1.64e+04    4.34e+04\n",
       "Oth         1.333e+04   2.14e+04      0.622      0.534   -2.87e+04    5.53e+04\n",
       "WD          1.215e+04   5699.364      2.131      0.033     964.989    2.33e+04\n",
       "FV          3.148e+04   1.68e+04      1.869      0.062   -1557.958    6.45e+04\n",
       "RH          1.695e+04    1.7e+04      1.000      0.318   -1.63e+04    5.02e+04\n",
       "RL          1.926e+04   1.41e+04      1.363      0.173   -8457.742     4.7e+04\n",
       "RM          3.339e+04   1.32e+04      2.522      0.012    7415.251    5.94e+04\n",
       "Pave       -1652.5399   1.57e+04     -0.105      0.916   -3.25e+04    2.92e+04\n",
       "Blueste     7415.5890   2.77e+04      0.267      0.789    -4.7e+04    6.18e+04\n",
       "BrDale     -1.532e+04   1.49e+04     -1.029      0.304   -4.45e+04    1.39e+04\n",
       "BrkSide    -5.044e+04    1.2e+04     -4.212      0.000   -7.39e+04   -2.69e+04\n",
       "ClearCr    -3.014e+04   1.26e+04     -2.393      0.017   -5.49e+04   -5432.316\n",
       "CollgCr    -1.725e+04   1.04e+04     -1.666      0.096   -3.76e+04    3066.425\n",
       "Crawfor    -1.343e+04   1.13e+04     -1.193      0.233   -3.55e+04    8648.843\n",
       "Edwards    -5.803e+04   1.08e+04     -5.367      0.000   -7.92e+04   -3.68e+04\n",
       "Gilbert    -2.232e+04    1.1e+04     -2.028      0.043   -4.39e+04    -726.702\n",
       "IDOTRR     -6.827e+04    1.4e+04     -4.893      0.000   -9.56e+04   -4.09e+04\n",
       "MeadowV    -2.691e+04   1.39e+04     -1.940      0.053   -5.41e+04     301.706\n",
       "Mitchel    -3.184e+04   1.15e+04     -2.779      0.006   -5.43e+04   -9366.279\n",
       "NAmes      -4.416e+04   1.05e+04     -4.208      0.000   -6.47e+04   -2.36e+04\n",
       "NPkVill     3043.5531   1.51e+04      0.201      0.841   -2.66e+04    3.27e+04\n",
       "NWAmes     -3.446e+04    1.1e+04     -3.131      0.002    -5.6e+04   -1.29e+04\n",
       "NoRidge     6.028e+04   1.16e+04      5.207      0.000    3.76e+04     8.3e+04\n",
       "NridgHt     3.767e+04   1.04e+04      3.607      0.000    1.72e+04    5.82e+04\n",
       "OldTown    -7.188e+04   1.22e+04     -5.891      0.000   -9.58e+04   -4.79e+04\n",
       "SWISU      -5.982e+04   1.26e+04     -4.747      0.000   -8.45e+04   -3.51e+04\n",
       "Sawyer     -4.588e+04   1.11e+04     -4.123      0.000   -6.77e+04   -2.41e+04\n",
       "SawyerW    -2.401e+04   1.09e+04     -2.195      0.028   -4.55e+04   -2552.412\n",
       "Somerst    -5124.0067   1.26e+04     -0.406      0.684   -2.99e+04    1.96e+04\n",
       "StoneBr     5.242e+04   1.16e+04      4.520      0.000    2.97e+04    7.52e+04\n",
       "Timber     -7977.6501   1.17e+04     -0.682      0.495   -3.09e+04     1.5e+04\n",
       "Veenker     1624.4792   1.48e+04      0.110      0.912   -2.73e+04    3.06e+04\n",
       "==============================================================================\n",
       "Omnibus:                      513.727   Durbin-Watson:                   1.930\n",
       "Prob(Omnibus):                  0.000   Jarque-Bera (JB):            11182.821\n",
       "Skew:                           1.106   Prob(JB):                         0.00\n",
       "Kurtosis:                      16.377   Cond. No.                         118.\n",
       "==============================================================================\n",
       "\n",
       "Warnings:\n",
       "[1] Standard Errors assume that the covariance matrix of the errors is correctly specified.\n",
       "\"\"\""
      ]
     },
     "execution_count": 55,
     "metadata": {},
     "output_type": "execute_result"
    }
   ],
   "source": [
    "model.summary()"
   ]
  },
  {
   "cell_type": "markdown",
   "metadata": {},
   "source": [
    "## Run the same model in scikit-learn"
   ]
  },
  {
   "cell_type": "code",
   "execution_count": 58,
   "metadata": {
    "ExecuteTime": {
     "end_time": "2020-08-22T21:10:11.201617Z",
     "start_time": "2020-08-22T21:10:11.126979Z"
    }
   },
   "outputs": [
    {
     "data": {
      "text/plain": [
       "LinearRegression(copy_X=True, fit_intercept=True, n_jobs=None, normalize=False)"
      ]
     },
     "execution_count": 58,
     "metadata": {},
     "output_type": "execute_result"
    }
   ],
   "source": [
    "# Your code here - Check that the coefficients and intercept are the same as those from Statsmodels\n",
    "from sklearn.linear_model import LinearRegression\n",
    "y = ames['SalePrice']\n",
    "linereg = LinearRegression()\n",
    "linereg.fit(preprocessed.drop('SalePrice', axis=1), y)"
   ]
  },
  {
   "cell_type": "code",
   "execution_count": 59,
   "metadata": {
    "ExecuteTime": {
     "end_time": "2020-08-22T21:10:28.994460Z",
     "start_time": "2020-08-22T21:10:28.984898Z"
    }
   },
   "outputs": [
    {
     "data": {
      "text/plain": [
       "array([100257.13305702,  88944.99711967, 208921.46884228, -15470.83603067,\n",
       "       -29460.33246996, -19028.0179233 , -17951.17681979, -85579.02251041,\n",
       "       -58800.96411711, -76544.23263002,  23280.88887463,  60558.1152778 ,\n",
       "        17103.56395132,  13950.5699292 ,   5959.6242822 ,  29931.67575434,\n",
       "        13326.06280712,  12145.11974576,  31479.11788169,  16953.57389195,\n",
       "        19259.46102664,  33387.30213005,  -1652.53991566,   7415.58904673,\n",
       "       -15323.61368684, -50437.57552947, -30141.74062858, -17247.66140545,\n",
       "       -13431.92858168, -58033.53728179, -22322.07925776, -68271.5835229 ,\n",
       "       -26911.16971068, -31844.84258383, -44157.95052307,   3043.55309964,\n",
       "       -34455.0474652 ,  60277.42825136,  37668.51286882, -71877.55831747,\n",
       "       -59817.82894761, -45883.59107202, -24007.99382195,  -5124.00673102,\n",
       "        52416.37278963,  -7977.65007607,   1624.479234  ])"
      ]
     },
     "execution_count": 59,
     "metadata": {},
     "output_type": "execute_result"
    }
   ],
   "source": [
    "linereg.coef_"
   ]
  },
  {
   "cell_type": "code",
   "execution_count": 60,
   "metadata": {
    "ExecuteTime": {
     "end_time": "2020-08-22T21:16:56.691864Z",
     "start_time": "2020-08-22T21:16:56.679624Z"
    }
   },
   "outputs": [
    {
     "data": {
      "text/plain": [
       "56768.05855065142"
      ]
     },
     "execution_count": 60,
     "metadata": {},
     "output_type": "execute_result"
    }
   ],
   "source": [
    "linereg.intercept_"
   ]
  },
  {
   "cell_type": "markdown",
   "metadata": {},
   "source": [
    "## Predict the house price given the following characteristics (before manipulation!!)\n",
    "\n",
    "Make sure to transform your variables as needed!\n",
    "\n",
    "- LotArea: 14977\n",
    "- 1stFlrSF: 1976\n",
    "- GrLivArea: 1976\n",
    "- BldgType: 1Fam\n",
    "- KitchenQual: Gd\n",
    "- SaleType: New\n",
    "- MSZoning: RL\n",
    "- Street: Pave\n",
    "- Neighborhood: NridgHt"
   ]
  },
  {
   "cell_type": "code",
   "execution_count": 87,
   "metadata": {
    "ExecuteTime": {
     "end_time": "2020-08-22T22:24:25.549824Z",
     "start_time": "2020-08-22T22:24:25.481169Z"
    }
   },
   "outputs": [],
   "source": [
    "def transform(var1,var2,var3):\n",
    "    transform1 = (np.log(var1) - ames_cont['LotArea'].min())/(ames_cont.LotArea.max()-ames_cont.LotArea.min())\n",
    "    transform2 = (np.log(var2) - ames_cont['1stFlrSF'].min())/(ames_cont['1stFlrSF'].max()-ames_cont['1stFlrSF'].min())\n",
    "    transform3 = (np.log(var3) - ames_cont['GrLivArea'].min())/(ames_cont.GrLivArea.max()-ames_cont.GrLivArea.min())\n",
    "    \n",
    "    return transform1, transform2, transform3\n",
    "x_one, x_two, x_three = transform(14977, 1976, 1976)\n",
    "df = preprocessed.drop(columns=['SalePrice'], axis=1)\n",
    "test_df = pd.DataFrame(columns=df.columns)\n",
    "\n",
    "test_df.loc[0] = 0\n",
    "\n",
    "test_df['LotArea'] = x_one\n",
    "test_df['FirstFlrSF'] = x_two\n",
    "test_df['GrLivArea'] = x_three\n",
    "test_df['Gd'] = 1\n",
    "test_df['New'] = 1\n",
    "test_df['RL'] = 1\n",
    "test_df['Pave'] = 1\n",
    "test_df['NridgHt'] = 1\n",
    "\n"
   ]
  },
  {
   "cell_type": "code",
   "execution_count": 88,
   "metadata": {
    "ExecuteTime": {
     "end_time": "2020-08-22T22:24:26.803578Z",
     "start_time": "2020-08-22T22:24:26.763671Z"
    }
   },
   "outputs": [
    {
     "data": {
      "text/html": [
       "<div>\n",
       "<style scoped>\n",
       "    .dataframe tbody tr th:only-of-type {\n",
       "        vertical-align: middle;\n",
       "    }\n",
       "\n",
       "    .dataframe tbody tr th {\n",
       "        vertical-align: top;\n",
       "    }\n",
       "\n",
       "    .dataframe thead th {\n",
       "        text-align: right;\n",
       "    }\n",
       "</style>\n",
       "<table border=\"1\" class=\"dataframe\">\n",
       "  <thead>\n",
       "    <tr style=\"text-align: right;\">\n",
       "      <th></th>\n",
       "      <th>LotArea</th>\n",
       "      <th>FirstFlrSF</th>\n",
       "      <th>GrLivArea</th>\n",
       "      <th>TwoFmCon</th>\n",
       "      <th>Duplex</th>\n",
       "      <th>Twnhs</th>\n",
       "      <th>TwnhsE</th>\n",
       "      <th>Fa</th>\n",
       "      <th>Gd</th>\n",
       "      <th>TA</th>\n",
       "      <th>...</th>\n",
       "      <th>NoRidge</th>\n",
       "      <th>NridgHt</th>\n",
       "      <th>OldTown</th>\n",
       "      <th>SWISU</th>\n",
       "      <th>Sawyer</th>\n",
       "      <th>SawyerW</th>\n",
       "      <th>Somerst</th>\n",
       "      <th>StoneBr</th>\n",
       "      <th>Timber</th>\n",
       "      <th>Veenker</th>\n",
       "    </tr>\n",
       "  </thead>\n",
       "  <tbody>\n",
       "    <tr>\n",
       "      <td>0</td>\n",
       "      <td>0.478363</td>\n",
       "      <td>0.672737</td>\n",
       "      <td>0.628858</td>\n",
       "      <td>0</td>\n",
       "      <td>0</td>\n",
       "      <td>0</td>\n",
       "      <td>0</td>\n",
       "      <td>0</td>\n",
       "      <td>1</td>\n",
       "      <td>0</td>\n",
       "      <td>...</td>\n",
       "      <td>0</td>\n",
       "      <td>1</td>\n",
       "      <td>0</td>\n",
       "      <td>0</td>\n",
       "      <td>0</td>\n",
       "      <td>0</td>\n",
       "      <td>0</td>\n",
       "      <td>0</td>\n",
       "      <td>0</td>\n",
       "      <td>0</td>\n",
       "    </tr>\n",
       "  </tbody>\n",
       "</table>\n",
       "<p>1 rows × 47 columns</p>\n",
       "</div>"
      ],
      "text/plain": [
       "    LotArea  FirstFlrSF  GrLivArea TwoFmCon Duplex Twnhs TwnhsE Fa  Gd TA  \\\n",
       "0  0.478363    0.672737   0.628858        0      0     0      0  0   1  0   \n",
       "\n",
       "   ... NoRidge NridgHt OldTown SWISU Sawyer  SawyerW Somerst StoneBr Timber  \\\n",
       "0  ...       0       1       0     0      0        0       0       0      0   \n",
       "\n",
       "  Veenker  \n",
       "0       0  \n",
       "\n",
       "[1 rows x 47 columns]"
      ]
     },
     "execution_count": 88,
     "metadata": {},
     "output_type": "execute_result"
    }
   ],
   "source": [
    "test_df\n"
   ]
  },
  {
   "cell_type": "code",
   "execution_count": 91,
   "metadata": {
    "ExecuteTime": {
     "end_time": "2020-08-22T22:26:19.771533Z",
     "start_time": "2020-08-22T22:26:19.761867Z"
    }
   },
   "outputs": [
    {
     "data": {
      "text/plain": [
       "322351.9511551196"
      ]
     },
     "execution_count": 91,
     "metadata": {},
     "output_type": "execute_result"
    }
   ],
   "source": [
    "prediction = sum(test_df.loc[0]*linereg.coef_) + linereg.intercept_\n",
    "prediction\n"
   ]
  },
  {
   "cell_type": "code",
   "execution_count": null,
   "metadata": {},
   "outputs": [],
   "source": [
    "#The model predicts that a house with the given features will cost $322,351.95"
   ]
  },
  {
   "cell_type": "markdown",
   "metadata": {},
   "source": [
    "## Summary\n",
    "Congratulations! You pre-processed the Ames Housing data using scaling and standardization. You also fitted your first multiple linear regression model on the Ames Housing data using statsmodels and scikit-learn!"
   ]
  }
 ],
 "metadata": {
  "kernelspec": {
   "display_name": "Python 3",
   "language": "python",
   "name": "python3"
  },
  "language_info": {
   "codemirror_mode": {
    "name": "ipython",
    "version": 3
   },
   "file_extension": ".py",
   "mimetype": "text/x-python",
   "name": "python",
   "nbconvert_exporter": "python",
   "pygments_lexer": "ipython3",
   "version": "3.6.9"
  },
  "toc": {
   "base_numbering": 1,
   "nav_menu": {},
   "number_sections": true,
   "sideBar": true,
   "skip_h1_title": false,
   "title_cell": "Table of Contents",
   "title_sidebar": "Contents",
   "toc_cell": false,
   "toc_position": {},
   "toc_section_display": true,
   "toc_window_display": false
  },
  "varInspector": {
   "cols": {
    "lenName": 16,
    "lenType": 16,
    "lenVar": 40
   },
   "kernels_config": {
    "python": {
     "delete_cmd_postfix": "",
     "delete_cmd_prefix": "del ",
     "library": "var_list.py",
     "varRefreshCmd": "print(var_dic_list())"
    },
    "r": {
     "delete_cmd_postfix": ") ",
     "delete_cmd_prefix": "rm(",
     "library": "var_list.r",
     "varRefreshCmd": "cat(var_dic_list()) "
    }
   },
   "types_to_exclude": [
    "module",
    "function",
    "builtin_function_or_method",
    "instance",
    "_Feature"
   ],
   "window_display": false
  }
 },
 "nbformat": 4,
 "nbformat_minor": 2
}
